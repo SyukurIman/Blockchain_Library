{
 "cells": [
  {
   "cell_type": "code",
   "execution_count": 1,
   "id": "dd7a667d",
   "metadata": {},
   "outputs": [],
   "source": [
    "import server_connect as sv"
   ]
  },
  {
   "cell_type": "code",
   "execution_count": 2,
   "id": "e4cc4a94",
   "metadata": {},
   "outputs": [],
   "source": [
    "server = sv.setting_server()"
   ]
  },
  {
   "cell_type": "code",
   "execution_count": 3,
   "id": "245e9154",
   "metadata": {},
   "outputs": [
    {
     "name": "stdout",
     "output_type": "stream",
     "text": [
      "socket is listening\n"
     ]
    }
   ],
   "source": [
    "alamatserver = \"127.0.0.1\"\n",
    "portserver = 5050\n",
    "\n",
    "server.start_server(alamatserver, portserver)"
   ]
  },
  {
   "cell_type": "code",
   "execution_count": 27,
   "id": "3a0a86ef",
   "metadata": {},
   "outputs": [
    {
     "name": "stdout",
     "output_type": "stream",
     "text": [
      "client telah terhubung  ('127.0.0.1', 64235)\n"
     ]
    },
    {
     "data": {
      "text/plain": [
       "4"
      ]
     },
     "execution_count": 27,
     "metadata": {},
     "output_type": "execute_result"
    }
   ],
   "source": [
    "client1 = server.connect_to_client()\n",
    "msg = input(\"Your Input: \")\n",
    "client1.send(str.encode(msg))"
   ]
  },
  {
   "cell_type": "code",
   "execution_count": null,
   "id": "511d10e1",
   "metadata": {},
   "outputs": [],
   "source": [
    "client2 = server.connect_to_client()\n",
    "msg = input(\"Your Input: \")\n",
    "client2.send(str.encode(msg))"
   ]
  },
  {
   "cell_type": "code",
   "execution_count": 29,
   "id": "bf3a422a",
   "metadata": {},
   "outputs": [
    {
     "data": {
      "text/plain": [
       "4"
      ]
     },
     "execution_count": 29,
     "metadata": {},
     "output_type": "execute_result"
    }
   ],
   "source": [
    "msg = input(\"Your Input: \")\n",
    "# client2.send(str.encodes(msg))\n",
    "client1.send(str.encode(msg))"
   ]
  },
  {
   "cell_type": "code",
   "execution_count": 1,
   "id": "674d5a4c",
   "metadata": {},
   "outputs": [
    {
     "name": "stdout",
     "output_type": "stream",
     "text": [
      "\n",
      "\n"
     ]
    }
   ],
   "source": [
    "from inputimeout import inputimeout, TimeoutOccurred\n",
    "data = ''\n",
    "\n",
    "while True:\n",
    "    try:\n",
    "        data = inputimeout(input(\"Your Input\", ), timeout=3)\n",
    "    except:\n",
    "        data = 'TimeOut'\n",
    "    \n",
    "    if data == 'break':\n",
    "        break\n",
    "    else:\n",
    "        if data != 'TimeOut':\n",
    "            print(data)"
   ]
  }
 ],
 "metadata": {
  "kernelspec": {
   "display_name": "Python 3 (ipykernel)",
   "language": "python",
   "name": "python3"
  },
  "language_info": {
   "codemirror_mode": {
    "name": "ipython",
    "version": 3
   },
   "file_extension": ".py",
   "mimetype": "text/x-python",
   "name": "python",
   "nbconvert_exporter": "python",
   "pygments_lexer": "ipython3",
   "version": "3.7.9"
  }
 },
 "nbformat": 4,
 "nbformat_minor": 5
}
